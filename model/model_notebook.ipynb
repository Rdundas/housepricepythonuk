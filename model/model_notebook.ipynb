{
 "cells": [
  {
   "cell_type": "markdown",
   "metadata": {},
   "source": []
  },
  {
   "cell_type": "code",
   "execution_count": 3,
   "metadata": {},
   "outputs": [],
   "source": [
    "from sklearn import linear_model\n",
    "import pandas as pd \n",
    "from datetime import datetime    \n",
    "import numpy as np\n"
   ]
  },
  {
   "cell_type": "code",
   "execution_count": 11,
   "metadata": {},
   "outputs": [],
   "source": [
    "#read data and basic cleaning i.e. remove ID column and clean up dates\n",
    "df = pd.read_csv('processed2022-10-31.csv')\n",
    "df.drop(['Unnamed: 0','ID'],axis=1,inplace=True)\n",
    "#fill nas\n",
    "df.fillna(0,inplace=True)\n",
    "#convert date\n",
    "df['date']=df['date'].astype('datetime64')\n",
    "#get day, month and year\n",
    "df['day']=df['date'].dt.day\n",
    "df['month']=df['date'].dt.month\n",
    "df['year']=df['date'].dt.year\n",
    "df.drop(['date'],axis=1,inplace=True)\n",
    "df.drop('address',axis=1,inplace=True)\n",
    "#remove offices\n",
    "df=df[df['type']!='O']"
   ]
  },
  {
   "cell_type": "code",
   "execution_count": 12,
   "metadata": {},
   "outputs": [],
   "source": [
    "#Adjust for house price trend\n",
    "def adjust_for_trend(df):\n",
    "    '''Adjusts for house price trend by year\n",
    "    '''\n",
    "    adjust=df[['year','value']].groupby('year').mean().reset_index()\n",
    "    latest_value=float(adjust['value'][-1:])\n",
    "    adjust['adjustment']=adjust['value']/latest_value\n",
    "    adjust.drop('value',axis=1,inplace=True)\n",
    "    df=df.merge(adjust)\n",
    "    df['value']=df['value']/df['adjustment']\n",
    "    df.drop('adjustment',axis=1,inplace=True)\n",
    "    return df\n",
    "\n",
    "adjust=True\n",
    "if adjust:\n",
    "    df=adjust_for_trend(df)#Adjust for house price trend\n",
    "\n"
   ]
  },
  {
   "cell_type": "code",
   "execution_count": 19,
   "metadata": {},
   "outputs": [],
   "source": [
    "adjust=df[['year','value']].groupby('year').mean().reset_index()\n",
    "latest_value=float(adjust['value'][-1:])\n",
    "adjust['adjustment']=adjust['value']/latest_value\n",
    "adjust.to_csv('house_price_adjustments.csv')"
   ]
  },
  {
   "cell_type": "code",
   "execution_count": 13,
   "metadata": {},
   "outputs": [],
   "source": [
    "#do time dependent split as this is appropriate\n",
    "year_split=2019\n",
    "X_train,y_train=df[df['year']<=year_split].drop('value',axis=1),df[df['year']<=year_split]['value']\n",
    "X_test,y_test=df[df['year']>year_split].drop('value',axis=1),df[df['year']>year_split]['value']"
   ]
  },
  {
   "cell_type": "code",
   "execution_count": 14,
   "metadata": {},
   "outputs": [
    {
     "data": {
      "text/plain": [
       "<catboost.core.CatBoostRegressor at 0x7f08e0749520>"
      ]
     },
     "execution_count": 14,
     "metadata": {},
     "output_type": "execute_result"
    }
   ],
   "source": [
    "from catboost import CatBoostRegressor\n",
    "model=CatBoostRegressor(n_estimators=300,random_state=42,max_depth=10,l2_leaf_reg=10)\n",
    "cat_features=['zip_code', 'type', 'commercial', 'lease', 'name_number',\n",
    "       'flat', 'road', 'postcode_area',\n",
    "       'postcode_sector', 'day']\n",
    "model.fit(X_train,y_train,cat_features=cat_features,silent=True)"
   ]
  },
  {
   "cell_type": "code",
   "execution_count": 15,
   "metadata": {},
   "outputs": [
    {
     "name": "stdout",
     "output_type": "stream",
     "text": [
      "zip_code 4.916644253132373\n",
      "type 19.37927787588498\n",
      "commercial 0.18771443012605007\n",
      "lease 1.9792103142121822\n",
      "name_number 7.594804392670155\n",
      "flat 10.787517381125717\n",
      "road 5.087092458370975\n",
      "year 7.910321601776155\n",
      "month 2.9469805855267057\n",
      "postcode_area 15.691438267815354\n",
      "postcode_sector 16.17720879343436\n",
      "day 7.341789645924947\n"
     ]
    }
   ],
   "source": [
    "for var, val in zip(X_train.columns,model.feature_importances_):\n",
    "    print(var,val)"
   ]
  },
  {
   "cell_type": "code",
   "execution_count": 16,
   "metadata": {},
   "outputs": [],
   "source": [
    "train_predictions=model.predict(X_train)\n",
    "test_predictions=model.predict(X_test)\n",
    "X_test['predictions']=test_predictions\n",
    "X_test['actual']=y_test"
   ]
  },
  {
   "cell_type": "code",
   "execution_count": 17,
   "metadata": {},
   "outputs": [
    {
     "name": "stdout",
     "output_type": "stream",
     "text": [
      "Train R Squared  0.7380931430825565\n",
      "Test R Squared  0.5661560765288804\n"
     ]
    }
   ],
   "source": [
    "print(\"Train R Squared \",1-np.sum(((train_predictions-y_train)**2))/np.sum(((y_train-np.mean(y_train))**2)))\n",
    "print(\"Test R Squared \",1-np.sum(((test_predictions-y_test)**2))/np.sum(((y_test-np.mean(y_test))**2)))"
   ]
  },
  {
   "cell_type": "code",
   "execution_count": null,
   "metadata": {},
   "outputs": [],
   "source": [
    "X_test.to_csv('predictions.csv')"
   ]
  },
  {
   "cell_type": "code",
   "execution_count": null,
   "metadata": {},
   "outputs": [],
   "source": []
  }
 ],
 "metadata": {
  "kernelspec": {
   "display_name": "Python 3.8.10 ('env': venv)",
   "language": "python",
   "name": "python3"
  },
  "language_info": {
   "codemirror_mode": {
    "name": "ipython",
    "version": 3
   },
   "file_extension": ".py",
   "mimetype": "text/x-python",
   "name": "python",
   "nbconvert_exporter": "python",
   "pygments_lexer": "ipython3",
   "version": "3.8.10"
  },
  "orig_nbformat": 4,
  "vscode": {
   "interpreter": {
    "hash": "c49331ed8d6e94077ade43ea1eaf987538fe392d018dae80187cb2fff7a92c1c"
   }
  }
 },
 "nbformat": 4,
 "nbformat_minor": 2
}
